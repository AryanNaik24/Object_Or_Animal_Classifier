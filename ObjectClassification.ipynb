{
 "cells": [
  {
   "cell_type": "code",
   "execution_count": 23,
   "id": "ca95947e-231a-48a6-9b7f-a27b47aa50cc",
   "metadata": {},
   "outputs": [],
   "source": [
    "import numpy as np\n",
    "from PIL import Image\n",
    "\n",
    "import torch \n",
    "import torch.nn as nn\n",
    "import torch.nn.functional as F\n",
    "import torch.optim as optim\n",
    "\n",
    "import torchvision\n",
    "import torchvision.transforms as transforms\n"
   ]
  },
  {
   "cell_type": "code",
   "execution_count": 24,
   "id": "f6db4585-6052-476d-80ef-4d3866fbfb57",
   "metadata": {},
   "outputs": [],
   "source": [
    "transform =  transforms.Compose([\n",
    "    transforms.ToTensor(),\n",
    "    transforms.Normalize((0.5,0.5,0.5),(0.5,0.5,0.5))\n",
    "    \n",
    "])"
   ]
  },
  {
   "cell_type": "code",
   "execution_count": 4,
   "id": "4040bf74-eb74-4ce6-8ccd-4c2b81efa7be",
   "metadata": {},
   "outputs": [
    {
     "name": "stderr",
     "output_type": "stream",
     "text": [
      "100.0%\n"
     ]
    }
   ],
   "source": [
    "train_data = torchvision.datasets.CIFAR10(root=\"./data\",train=True,transform=transform,download=True)\n",
    "test_data = torchvision.datasets.CIFAR10(root=\"./data\",train=False,transform=transform,download=True)\n",
    "\n",
    "train_loader = torch.utils.data.DataLoader(train_data,batch_size=32,shuffle=True,num_workers=2)\n",
    "test_loader = torch.utils.data.DataLoader(test_data,batch_size=32,shuffle=True,num_workers=2)\n"
   ]
  },
  {
   "cell_type": "code",
   "execution_count": 25,
   "id": "b8ea847d-e6dc-415e-ac41-4776252fd43c",
   "metadata": {},
   "outputs": [],
   "source": [
    "image,label = train_data[0]"
   ]
  },
  {
   "cell_type": "code",
   "execution_count": 26,
   "id": "434322f1-f3d8-42be-8ddc-cdb75eae4780",
   "metadata": {},
   "outputs": [
    {
     "data": {
      "text/plain": [
       "torch.Size([3, 32, 32])"
      ]
     },
     "execution_count": 26,
     "metadata": {},
     "output_type": "execute_result"
    }
   ],
   "source": [
    "image.size()"
   ]
  },
  {
   "cell_type": "code",
   "execution_count": 27,
   "id": "08863a2f-2198-4079-a014-7ab14709fbdb",
   "metadata": {},
   "outputs": [],
   "source": [
    "class_names = ['plane','car','bird','cat','deer','dog','frog','horse','ship','truck']"
   ]
  },
  {
   "cell_type": "code",
   "execution_count": 28,
   "id": "4f2b74fc-6bdb-4649-b15c-1e5176b39ae7",
   "metadata": {},
   "outputs": [],
   "source": [
    "class NeuralNet(nn.Module):\n",
    "    def __init__(self):\n",
    "        super().__init__()\n",
    "\n",
    "        self.conv1 = nn.Conv2d(3,12,5) #[12,28,28]\n",
    "        self.pool = nn.MaxPool2d(2,2) #[12,14,14] #make 2*2 pixels inti 1.\n",
    "        self.conv2 = nn.Conv2d(12,24,5) #[24,10,10] -> [24,5,5] -> flatten\n",
    "        self.fc1 = nn.Linear(24*5*5,120)\n",
    "        self.fc2 = nn.Linear(120,84)\n",
    "        self.fc3 = nn.Linear(84,10)\n",
    "        \n",
    "        \n",
    "    def forward(self,x):\n",
    "        x = self.pool(F.relu(self.conv1(x)))\n",
    "        x = self.pool(F.relu(self.conv2(x)))\n",
    "        x = torch.flatten(x,1)\n",
    "        x = F.relu(self.fc1(x))\n",
    "        x = F.relu(self.fc2(x))\n",
    "        x = self.fc3(x)\n",
    "        return x\n",
    "        \n",
    "        \n",
    "        \n",
    "\n",
    "        "
   ]
  },
  {
   "cell_type": "code",
   "execution_count": 29,
   "id": "b2a425aa-7507-4284-a985-2213a038c108",
   "metadata": {},
   "outputs": [],
   "source": [
    "net = NeuralNet()\n",
    "loss_function = nn.CrossEntropyLoss()\n",
    "optimizer = optim.SGD(net.parameters(),lr=0.01,momentum=0.9)"
   ]
  },
  {
   "cell_type": "code",
   "execution_count": 30,
   "id": "e56fdcc6-674f-4289-8640-b7c5c0c2f0e2",
   "metadata": {},
   "outputs": [
    {
     "name": "stdout",
     "output_type": "stream",
     "text": [
      "Training epoch 0...\n",
      "loss : 1.6333\n",
      "Training epoch 1...\n",
      "loss : 1.2617\n",
      "Training epoch 2...\n",
      "loss : 1.0915\n",
      "Training epoch 3...\n",
      "loss : 0.9838\n",
      "Training epoch 4...\n",
      "loss : 0.9048\n",
      "Training epoch 5...\n",
      "loss : 0.8375\n",
      "Training epoch 6...\n",
      "loss : 0.7937\n",
      "Training epoch 7...\n",
      "loss : 0.7492\n",
      "Training epoch 8...\n",
      "loss : 0.7142\n",
      "Training epoch 9...\n",
      "loss : 0.6819\n",
      "Training epoch 10...\n",
      "loss : 0.6494\n",
      "Training epoch 11...\n",
      "loss : 0.6355\n",
      "Training epoch 12...\n",
      "loss : 0.6124\n",
      "Training epoch 13...\n",
      "loss : 0.6016\n",
      "Training epoch 14...\n",
      "loss : 0.5841\n",
      "Training epoch 15...\n",
      "loss : 0.5700\n",
      "Training epoch 16...\n",
      "loss : 0.5593\n",
      "Training epoch 17...\n",
      "loss : 0.5570\n",
      "Training epoch 18...\n",
      "loss : 0.5502\n",
      "Training epoch 19...\n",
      "loss : 0.5259\n",
      "Training epoch 20...\n",
      "loss : 0.5301\n",
      "Training epoch 21...\n",
      "loss : 0.5284\n",
      "Training epoch 22...\n",
      "loss : 0.5212\n",
      "Training epoch 23...\n",
      "loss : 0.5155\n",
      "Training epoch 24...\n",
      "loss : 0.5095\n",
      "Training epoch 25...\n",
      "loss : 0.5132\n",
      "Training epoch 26...\n",
      "loss : 0.5136\n",
      "Training epoch 27...\n",
      "loss : 0.4960\n",
      "Training epoch 28...\n",
      "loss : 0.5033\n",
      "Training epoch 29...\n",
      "loss : 0.5072\n"
     ]
    }
   ],
   "source": [
    "for epoch in range(30):\n",
    "    print(f\"Training epoch {epoch}...\")\n",
    "\n",
    "    running_loss = 0.0 \n",
    "\n",
    "    for i,data in enumerate(train_loader):\n",
    "        inputs,labels = data\n",
    "\n",
    "        optimizer.zero_grad()\n",
    "\n",
    "        outputs = net(inputs)\n",
    "\n",
    "        loss = loss_function(outputs,labels)\n",
    "        loss.backward()\n",
    "        optimizer.step()\n",
    "\n",
    "        running_loss += loss.item()\n",
    "\n",
    "        \n",
    "    print(f\"loss : {running_loss/len(train_loader):.4f}\")"
   ]
  },
  {
   "cell_type": "code",
   "execution_count": 31,
   "id": "5490a0c0-1f69-43da-9f67-afd067c1d73b",
   "metadata": {},
   "outputs": [],
   "source": [
    "torch.save(net.state_dict(),'trained_net.pth')"
   ]
  },
  {
   "cell_type": "code",
   "execution_count": 32,
   "id": "5fc6088b-cd1a-43b9-8b20-f4c42b7ed611",
   "metadata": {},
   "outputs": [
    {
     "data": {
      "text/plain": [
       "<All keys matched successfully>"
      ]
     },
     "execution_count": 32,
     "metadata": {},
     "output_type": "execute_result"
    }
   ],
   "source": [
    "net = NeuralNet()\n",
    "net.load_state_dict(torch.load('trained_net.pth'))"
   ]
  },
  {
   "cell_type": "code",
   "execution_count": 33,
   "id": "5f6c0263-f02d-45b5-aec5-e7cbce4c71a6",
   "metadata": {},
   "outputs": [
    {
     "name": "stdout",
     "output_type": "stream",
     "text": [
      "Accuracy : 63.05\n"
     ]
    }
   ],
   "source": [
    "correct = 0\n",
    "total = 0\n",
    "\n",
    "net.eval()\n",
    "\n",
    "with torch.no_grad():\n",
    "    for data in test_loader:\n",
    "        images,labels =data\n",
    "        outputs = net(images)\n",
    "        _, predicted = torch.max(outputs,1)\n",
    "        total += labels.size(0)\n",
    "        correct += (predicted == labels).sum().item()\n",
    "\n",
    "accuracy = 100*correct/total\n",
    "\n",
    "print(f\"Accuracy : {accuracy}\")\n",
    "        "
   ]
  },
  {
   "cell_type": "code",
   "execution_count": 38,
   "id": "95817dc5-0c1d-426f-b929-6d5bf5a2faec",
   "metadata": {},
   "outputs": [
    {
     "name": "stdout",
     "output_type": "stream",
     "text": [
      "Prediction cat\n",
      "Prediction deer\n",
      "Prediction plane\n"
     ]
    }
   ],
   "source": [
    "new_transforms = transforms.Compose([\n",
    "    transforms.Resize((32,32)),\n",
    "    transforms.ToTensor(),\n",
    "    transforms.Normalize((0.5,0.5,0.5),(0.5,0.5,0.5))\n",
    "    \n",
    "])\n",
    "\n",
    "def load_image(img_path):\n",
    "    image = Image.open(img_path)\n",
    "    image = new_transforms(image)\n",
    "    image = image.unsqueeze(0)\n",
    "    return image\n",
    "\n",
    "image_paths=['catTest1.jpg','deertest11.jpg','Planetest1.jpg']\n",
    "images = [load_image(img) for img in image_paths]\n",
    "\n",
    "net.eval()\n",
    "with torch.no_grad():\n",
    "    for image in images:\n",
    "        output = net(image)\n",
    "        _, predicted = torch.max(output,1)\n",
    "        print(f'Prediction {class_names[predicted.item()]}')"
   ]
  },
  {
   "cell_type": "code",
   "execution_count": null,
   "id": "8012db01-051a-485b-aa05-86f4365d1068",
   "metadata": {},
   "outputs": [],
   "source": []
  }
 ],
 "metadata": {
  "kernelspec": {
   "display_name": "Python 3 (ipykernel)",
   "language": "python",
   "name": "python3"
  },
  "language_info": {
   "codemirror_mode": {
    "name": "ipython",
    "version": 3
   },
   "file_extension": ".py",
   "mimetype": "text/x-python",
   "name": "python",
   "nbconvert_exporter": "python",
   "pygments_lexer": "ipython3",
   "version": "3.12.6"
  }
 },
 "nbformat": 4,
 "nbformat_minor": 5
}
